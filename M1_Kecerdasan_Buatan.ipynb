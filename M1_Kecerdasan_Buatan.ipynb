{
  "nbformat": 4,
  "nbformat_minor": 0,
  "metadata": {
    "colab": {
      "provenance": [],
      "gpuType": "T4",
      "authorship_tag": "ABX9TyPBLCs+kXsCxofGqavX0wd0",
      "include_colab_link": true
    },
    "kernelspec": {
      "name": "python3",
      "display_name": "Python 3"
    },
    "language_info": {
      "name": "python"
    },
    "accelerator": "GPU"
  },
  "cells": [
    {
      "cell_type": "markdown",
      "metadata": {
        "id": "view-in-github",
        "colab_type": "text"
      },
      "source": [
        "<a href=\"https://colab.research.google.com/github/IhsanRafli/AquaTeck/blob/main/M1_Kecerdasan_Buatan.ipynb\" target=\"_parent\"><img src=\"https://colab.research.google.com/assets/colab-badge.svg\" alt=\"Open In Colab\"/></a>"
      ]
    },
    {
      "cell_type": "code",
      "execution_count": 1,
      "metadata": {
        "colab": {
          "base_uri": "https://localhost:8080/"
        },
        "id": "N0rMFyimzN7R",
        "outputId": "27d60089-558a-4363-c733-6b0b1a27aec4"
      },
      "outputs": [
        {
          "output_type": "stream",
          "name": "stdout",
          "text": [
            "Python: 3.12.11\n",
            "Executable: /usr/bin/python3\n",
            "PyTorch: 2.8.0+cu126\n",
            "Device: cpu\n",
            "\n",
            "=== nvidia-smi ===\n",
            "\n"
          ]
        }
      ],
      "source": [
        "import os, platform, sys, subprocess, warnings, logging\n",
        "warnings.filterwarnings(\"ignore\", message=r\".*HF_TOKEN.*\")\n",
        "os.environ[\"TOKENIZERS_PARALLELISM\"] = \"false\"\n",
        "logging.getLogger(\"transformers\").setLevel(logging.ERROR)\n",
        "logging.getLogger(\"huggingface_hub\").setLevel(logging.ERROR)\n",
        "print(\"Python:\", platform.python_version())\n",
        "print(\"Executable:\", sys.executable)\n",
        "try:\n",
        "    import torch\n",
        "    print(\"PyTorch:\", torch.__version__)\n",
        "    device = \"cuda\" if torch.cuda.is_available() else \"cpu\"\n",
        "    print(\"Device:\", device)\n",
        "    if device == \"cuda\":\n",
        "        print(\"GPU:\", torch.cuda.get_device_name(0))\n",
        "except Exception:\n",
        "    print(\"PyTorch belum terpasang — akan dipasang di sel berikut.\")\n",
        "print(\"\\n=== nvidia-smi ===\")\n",
        "try:\n",
        "    out = subprocess.check_output([\"bash\",\"-lc\",\"nvidia-smi || true\"]).decode()\n",
        "    print(out)\n",
        "except Exception:\n",
        "    print(\"nvidia-smi tidak tersedia.\")"
      ]
    },
    {
      "cell_type": "code",
      "source": [
        "!pip -q install numpy pandas scikit-learn matplotlib plotly torch torchvision torchaudio transformers datasets evaluate"
      ],
      "metadata": {
        "colab": {
          "base_uri": "https://localhost:8080/"
        },
        "id": "uM00sOL2zqDp",
        "outputId": "f84d0036-cb22-47d9-8520-f62f5e560126"
      },
      "execution_count": 1,
      "outputs": [
        {
          "output_type": "stream",
          "name": "stdout",
          "text": [
            "\u001b[?25l   \u001b[90m━━━━━━━━━━━━━━━━━━━━━━━━━━━━━━━━━━━━━━━━\u001b[0m \u001b[32m0.0/84.1 kB\u001b[0m \u001b[31m?\u001b[0m eta \u001b[36m-:--:--\u001b[0m\r\u001b[2K   \u001b[90m━━━━━━━━━━━━━━━━━━━━━━━━━━━━━━━━━━━━━━━━\u001b[0m \u001b[32m84.1/84.1 kB\u001b[0m \u001b[31m2.6 MB/s\u001b[0m eta \u001b[36m0:00:00\u001b[0m\n",
            "\u001b[?25h"
          ]
        }
      ]
    },
    {
      "cell_type": "code",
      "source": [
        "from google.colab import drive\n",
        "drive.mount('/content/drive')"
      ],
      "metadata": {
        "colab": {
          "base_uri": "https://localhost:8080/"
        },
        "id": "zxvUIjrBz-Nm",
        "outputId": "c2f3e388-bd75-46bb-ae3b-3376dfefe30c"
      },
      "execution_count": 2,
      "outputs": [
        {
          "output_type": "stream",
          "name": "stdout",
          "text": [
            "Mounted at /content/drive\n"
          ]
        }
      ]
    },
    {
      "cell_type": "code",
      "source": [
        "import os, textwrap, pathlib\n",
        "BASE = \"/content/drive/MyDrive/trpl-ai-capstone\"  # Ubah bila perlu\n",
        "for sd in [\"data\",\"notebooks\",\"src\",\"docs\"]:\n",
        "    os.makedirs(os.path.join(BASE, sd), exist_ok=True)\n",
        "print(\"Struktur terbentuk di:\", BASE)\n",
        "\n",
        "# .gitignore minimal\n",
        "gitignore = textwrap.dedent('''\n",
        "# data & cache\n",
        "data/\n",
        "*.cache/\n",
        "__pycache__/\n",
        "*.ipynb_checkpoints/\n",
        ".DS_Store\n",
        "\n",
        "# secrets\n",
        ".env\n",
        "secrets.json\n",
        "''')\n",
        "with open(os.path.join(BASE, \".gitignore\"), \"w\") as f:\n",
        "    f.write(gitignore)\n",
        "print(\".gitignore dibuat.\")"
      ],
      "metadata": {
        "colab": {
          "base_uri": "https://localhost:8080/"
        },
        "id": "SJXzMBeJ0uSS",
        "outputId": "9ad349b2-2dae-4845-d68a-ea8e9b77265c"
      },
      "execution_count": 4,
      "outputs": [
        {
          "output_type": "stream",
          "name": "stdout",
          "text": [
            "Struktur terbentuk di: /content/drive/MyDrive/trpl-ai-capstone\n",
            ".gitignore dibuat.\n"
          ]
        }
      ]
    },
    {
      "cell_type": "code",
      "source": [
        "import pandas as pd\n",
        "import numpy as np\n",
        "import seaborn as sns\n",
        "import matplotlib.pyplot as plt\n",
        "from sklearn.model_selection import train_test_split, GridSearchCV\n",
        "from sklearn.preprocessing import LabelEncoder, StandardScaler\n",
        "from sklearn.ensemble import RandomForestClassifier\n",
        "from sklearn.svm import SVC\n",
        "from sklearn.metrics import accuracy_score, classification_report\n",
        "from xgboost import XGBClassifier\n",
        "import kagglehub\n",
        "import os\n",
        "\n",
        "# Download dataset\n",
        "path = kagglehub.dataset_download(\"minahilfatima12328/daily-coffee-transactions\")\n",
        "print(\"Path:\", path)\n",
        "print(\"Isi folder:\", os.listdir(path))\n",
        "\n",
        "# Baca file\n",
        "df = pd.read_csv(path + \"/Coffe_sales.csv\")\n",
        "\n",
        "# Encode kolom teks tambahan biar bisa dipakai sebagai fitur\n",
        "label_cols = ['cash_type', 'Time_of_Day', 'Weekday', 'Month_name']\n",
        "for col in label_cols:\n",
        "    le = LabelEncoder()\n",
        "    df[col] = le.fit_transform(df[col])\n",
        "\n",
        "# Pilih fitur dan target\n",
        "X = df[['hour_of_day', 'money', 'Weekdaysort', 'Monthsort',\n",
        "        'cash_type', 'Time_of_Day', 'Weekday', 'Month_name']]\n",
        "y = df['coffee_name']\n",
        "\n",
        "# Encode target\n",
        "le_y = LabelEncoder()\n",
        "y = le_y.fit_transform(y)\n",
        "\n",
        "# Split data\n",
        "X_train, X_test, y_train, y_test = train_test_split(X, y, test_size=0.2, random_state=42)\n",
        "\n",
        "# Scaling\n",
        "scaler = StandardScaler()\n",
        "X_train = scaler.fit_transform(X_train)\n",
        "X_test = scaler.transform(X_test)\n",
        "\n",
        "# GridSearchCV untuk Random Forest\n",
        "\n",
        "param_grid = {\n",
        "    'n_estimators': [100, 200, 300],\n",
        "    'max_depth': [None, 10, 20, 30],\n",
        "    'min_samples_split': [2, 5, 10],\n",
        "    'min_samples_leaf': [1, 2, 4]\n",
        "}\n",
        "\n",
        "grid = GridSearchCV(RandomForestClassifier(random_state=42),\n",
        "                    param_grid, cv=3, n_jobs=-1, verbose=1)\n",
        "\n",
        "print(\" Sedang melakukan Grid Search, mohon tunggu...\")\n",
        "grid.fit(X_train, y_train)\n",
        "\n",
        "print(\"\\n Best Parameters:\", grid.best_params_)\n",
        "best_rf = grid.best_estimator_\n",
        "\n",
        "#Bandingkan dengan model lain: SVM & XGBoost\n",
        "models = {\n",
        "    'Random Forest (Tuned)': best_rf,\n",
        "    'SVM (RBF Kernel)': SVC(kernel='rbf', C=2, gamma='scale', probability=True),\n",
        "    'XGBoost': XGBClassifier(\n",
        "        n_estimators=200, learning_rate=0.1, max_depth=8, subsample=0.8,\n",
        "        colsample_bytree=0.8, random_state=42, use_label_encoder=False, eval_metric='mlogloss'\n",
        "    )\n",
        "}\n",
        "\n",
        "results = []\n",
        "\n",
        "for name, model in models.items():\n",
        "    model.fit(X_train, y_train)\n",
        "    y_pred = model.predict(X_test)\n",
        "    acc = accuracy_score(y_test, y_pred)\n",
        "    results.append({'Model': name, 'Accuracy': acc})\n",
        "    print(f\"\\n{name} Accuracy: {acc:.4f}\")\n",
        "    print(classification_report(y_test, y_pred, target_names=le_y.classes_))\n",
        "\n",
        "# Visualisasi Perbandingan Akurasi\n",
        "results_df = pd.DataFrame(results)\n",
        "plt.figure(figsize=(7,5))\n",
        "sns.barplot(x='Model', y='Accuracy', data=results_df, palette='viridis')\n",
        "plt.title(\"Perbandingan Akurasi Model Klasifikasi Kopi\")\n",
        "plt.ylim(0, 1)\n",
        "plt.show()\n"
      ],
      "metadata": {
        "colab": {
          "base_uri": "https://localhost:8080/",
          "height": 1000
        },
        "id": "gC5TEHoi051k",
        "outputId": "7655546a-287d-4c26-d585-c02deb4a0ee7"
      },
      "execution_count": 5,
      "outputs": [
        {
          "output_type": "stream",
          "name": "stdout",
          "text": [
            "Using Colab cache for faster access to the 'daily-coffee-transactions' dataset.\n",
            "Path: /kaggle/input/daily-coffee-transactions\n",
            "Isi folder: ['Coffe_sales.csv']\n",
            " Sedang melakukan Grid Search, mohon tunggu...\n",
            "Fitting 3 folds for each of 108 candidates, totalling 324 fits\n",
            "\n",
            " Best Parameters: {'max_depth': None, 'min_samples_leaf': 1, 'min_samples_split': 10, 'n_estimators': 300}\n",
            "\n",
            "Random Forest (Tuned) Accuracy: 0.6507\n",
            "                     precision    recall  f1-score   support\n",
            "\n",
            "          Americano       0.78      0.86      0.82       128\n",
            "Americano with Milk       0.99      0.99      0.99       163\n",
            "         Cappuccino       0.33      0.34      0.34        90\n",
            "              Cocoa       0.36      0.18      0.24        45\n",
            "            Cortado       0.53      0.42      0.47        48\n",
            "           Espresso       1.00      0.80      0.89        20\n",
            "      Hot Chocolate       0.42      0.22      0.29        60\n",
            "              Latte       0.50      0.66      0.57       156\n",
            "\n",
            "           accuracy                           0.65       710\n",
            "          macro avg       0.61      0.56      0.57       710\n",
            "       weighted avg       0.64      0.65      0.64       710\n",
            "\n",
            "\n",
            "SVM (RBF Kernel) Accuracy: 0.6085\n",
            "                     precision    recall  f1-score   support\n",
            "\n",
            "          Americano       0.78      0.78      0.78       128\n",
            "Americano with Milk       0.82      0.97      0.89       163\n",
            "         Cappuccino       0.35      0.29      0.32        90\n",
            "              Cocoa       0.00      0.00      0.00        45\n",
            "            Cortado       0.49      0.42      0.45        48\n",
            "           Espresso       1.00      0.85      0.92        20\n",
            "      Hot Chocolate       0.35      0.12      0.17        60\n",
            "              Latte       0.44      0.67      0.53       156\n",
            "\n",
            "           accuracy                           0.61       710\n",
            "          macro avg       0.53      0.51      0.51       710\n",
            "       weighted avg       0.56      0.61      0.57       710\n",
            "\n"
          ]
        },
        {
          "output_type": "stream",
          "name": "stderr",
          "text": [
            "/usr/local/lib/python3.12/dist-packages/sklearn/metrics/_classification.py:1565: UndefinedMetricWarning: Precision is ill-defined and being set to 0.0 in labels with no predicted samples. Use `zero_division` parameter to control this behavior.\n",
            "  _warn_prf(average, modifier, f\"{metric.capitalize()} is\", len(result))\n",
            "/usr/local/lib/python3.12/dist-packages/sklearn/metrics/_classification.py:1565: UndefinedMetricWarning: Precision is ill-defined and being set to 0.0 in labels with no predicted samples. Use `zero_division` parameter to control this behavior.\n",
            "  _warn_prf(average, modifier, f\"{metric.capitalize()} is\", len(result))\n",
            "/usr/local/lib/python3.12/dist-packages/sklearn/metrics/_classification.py:1565: UndefinedMetricWarning: Precision is ill-defined and being set to 0.0 in labels with no predicted samples. Use `zero_division` parameter to control this behavior.\n",
            "  _warn_prf(average, modifier, f\"{metric.capitalize()} is\", len(result))\n",
            "/usr/local/lib/python3.12/dist-packages/xgboost/training.py:183: UserWarning: [08:00:33] WARNING: /workspace/src/learner.cc:738: \n",
            "Parameters: { \"use_label_encoder\" } are not used.\n",
            "\n",
            "  bst.update(dtrain, iteration=i, fobj=obj)\n"
          ]
        },
        {
          "output_type": "stream",
          "name": "stdout",
          "text": [
            "\n",
            "XGBoost Accuracy: 0.6268\n",
            "                     precision    recall  f1-score   support\n",
            "\n",
            "          Americano       0.79      0.74      0.76       128\n",
            "Americano with Milk       0.99      0.99      0.99       163\n",
            "         Cappuccino       0.36      0.36      0.36        90\n",
            "              Cocoa       0.33      0.29      0.31        45\n",
            "            Cortado       0.42      0.48      0.45        48\n",
            "           Espresso       1.00      0.95      0.97        20\n",
            "      Hot Chocolate       0.35      0.30      0.32        60\n",
            "              Latte       0.49      0.54      0.51       156\n",
            "\n",
            "           accuracy                           0.63       710\n",
            "          macro avg       0.59      0.58      0.58       710\n",
            "       weighted avg       0.63      0.63      0.63       710\n",
            "\n"
          ]
        },
        {
          "output_type": "stream",
          "name": "stderr",
          "text": [
            "/tmp/ipython-input-3071233553.py:86: FutureWarning: \n",
            "\n",
            "Passing `palette` without assigning `hue` is deprecated and will be removed in v0.14.0. Assign the `x` variable to `hue` and set `legend=False` for the same effect.\n",
            "\n",
            "  sns.barplot(x='Model', y='Accuracy', data=results_df, palette='viridis')\n"
          ]
        },
        {
          "output_type": "display_data",
          "data": {
            "text/plain": [
              "<Figure size 700x500 with 1 Axes>"
            ],
            "image/png": "[encoded data removed]"
          },
          "metadata": {}
        }
      ]
    }
  ]
}